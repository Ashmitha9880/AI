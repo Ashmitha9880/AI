{
 "cells": [
  {
   "cell_type": "code",
   "execution_count": 4,
   "id": "a9ee1769",
   "metadata": {},
   "outputs": [
    {
     "name": "stdout",
     "output_type": "stream",
     "text": [
      "    TIME WEATHER TEMPERATURE COMPANY HUMIDITY    WIND GOES\n",
      "0  Sunny    Warm      Normal  Strong     Warm    Same  Yes\n",
      "1  Sunny    Warm        High  Strong     Warm    Same  Yes\n",
      "2  Rainy    Cold        High  Strong     Warm  Change   No\n",
      "3  Sunny    Warm        High  Strong     Cool  Change  Yes\n",
      "The attributes are:  [['Sunny' 'Warm' 'Normal' 'Strong' 'Warm' 'Same']\n",
      " ['Sunny' 'Warm' 'High' 'Strong' 'Warm' 'Same']\n",
      " ['Rainy' 'Cold' 'High' 'Strong' 'Warm' 'Change']\n",
      " ['Sunny' 'Warm' 'High' 'Strong' 'Cool' 'Change']]\n",
      "The target is:  ['Yes' 'Yes' 'No' 'Yes']\n",
      "The final hypothesis is: ['Sunny' 'Warm' '?' 'Strong' '?' '?']\n"
     ]
    }
   ],
   "source": [
    "import pandas as pd\n",
    "import numpy as np\n",
    " \n",
    "#to read the data in the csv file<br>\n",
    "data = pd.read_csv(\"ws.csv\")\n",
    "print(data)\n",
    " \n",
    "#making an array of all the attributes<br>\n",
    "d = np.array(data)[:,:-1]\n",
    "print(\"The attributes are: \",d)\n",
    " \n",
    "#segragating the target that has positive and negative examples<br>\n",
    "target = np.array(data)[:,-1]\n",
    "print(\"The target is: \",target)\n",
    " \n",
    "#training function to implement find-s algorithm<br>\n",
    "def train(c,t):\n",
    "    for i, val in enumerate(t):\n",
    "        if val == \"Yes\":\n",
    "            specific_hypothesis = c[i].copy()\n",
    "            break\n",
    "             \n",
    "    for i, val in enumerate(c):\n",
    "        if t[i] == \"Yes\":\n",
    "            for x in range(len(specific_hypothesis)):\n",
    "                if val[x] != specific_hypothesis[x]:\n",
    "                    specific_hypothesis[x] = '?'\n",
    "                else:\n",
    "                    pass\n",
    "                 \n",
    "    return specific_hypothesis\n",
    " \n",
    "#obtaining the final hypothesis<br>\n",
    "print(\"The final hypothesis is:\",train(d,target))\n"
   ]
  },
  {
   "cell_type": "code",
   "execution_count": null,
   "id": "c15a9610",
   "metadata": {},
   "outputs": [],
   "source": []
  },
  {
   "cell_type": "code",
   "execution_count": null,
   "id": "56925421",
   "metadata": {},
   "outputs": [],
   "source": []
  }
 ],
 "metadata": {
  "kernelspec": {
   "display_name": "Python 3 (ipykernel)",
   "language": "python",
   "name": "python3"
  },
  "language_info": {
   "codemirror_mode": {
    "name": "ipython",
    "version": 3
   },
   "file_extension": ".py",
   "mimetype": "text/x-python",
   "name": "python",
   "nbconvert_exporter": "python",
   "pygments_lexer": "ipython3",
   "version": "3.9.13"
  }
 },
 "nbformat": 4,
 "nbformat_minor": 5
}
